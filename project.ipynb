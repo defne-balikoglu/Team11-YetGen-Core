{
 "cells": [
  {
   "cell_type": "code",
   "execution_count": null,
   "metadata": {},
   "outputs": [],
   "source": [
    "import json\n",
    "class ŞehirRehberi():\n",
    "    def __init__(self):\n",
    "        with open(\"sehirler.json\",\"r\", encoding=\"utf-8\") as dosya:\n",
    "            self.veriler=json.load(dosya)\n",
    "    def gidilecek_yer(self):\n",
    "        while True:\n",
    "            neresi=input(\"hangi ile gitmek istersiniz? Eğer aramak istediğiniz bir il yoksa q'ya basınız.\")\n",
    "            if neresi==\"q\":\n",
    "                break\n",
    "            neresi=neresi.capitalize()\n",
    "            try:\n",
    "                yer_listesi=self.veriler[neresi]\n",
    "                print(f\"{neresi} Şehrinde Gidilebilecek Yerler\")\n",
    "                for i in range(len(yer_listesi)):\n",
    "                    print(f\"\\t{i+1}. {yer_listesi[i]}\")\n",
    "                print()\n",
    "            except KeyError:\n",
    "                print(\"Şehir bulunamadı.\")\n",
    "rehber=ŞehirRehberi()\n",
    "rehber.gidilecek_yer()\n",
    "\n"
   ]
  }
 ],
 "metadata": {
  "kernelspec": {
   "display_name": "base",
   "language": "python",
   "name": "python3"
  },
  "language_info": {
   "codemirror_mode": {
    "name": "ipython",
    "version": 3
   },
   "file_extension": ".py",
   "mimetype": "text/x-python",
   "name": "python",
   "nbconvert_exporter": "python",
   "pygments_lexer": "ipython3",
   "version": "3.10.9"
  }
 },
 "nbformat": 4,
 "nbformat_minor": 2
}
